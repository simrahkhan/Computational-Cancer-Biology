{
  "nbformat": 4,
  "nbformat_minor": 0,
  "metadata": {
    "colab": {
      "provenance": [],
      "include_colab_link": true
    },
    "kernelspec": {
      "name": "python3",
      "display_name": "Python 3"
    }
  },
  "cells": [
    {
      "cell_type": "markdown",
      "metadata": {
        "id": "view-in-github",
        "colab_type": "text"
      },
      "source": [
        "<a href=\"https://colab.research.google.com/github/simrahkhan/Computational-Cancer-Biology/blob/main/HW1_Introduction_to_Cancer_Datasets_Student_version.ipynb\" target=\"_parent\"><img src=\"https://colab.research.google.com/assets/colab-badge.svg\" alt=\"Open In Colab\"/></a>"
      ]
    },
    {
      "cell_type": "markdown",
      "metadata": {
        "id": "fPkHmuNmkfb1"
      },
      "source": [
        "#**Homework 1 - Pandas Dataframes**\n",
        "Welcome to the cancer data exploration for BIO 462. This is lesson #1.\n",
        "\n",
        "The purpose of this notebook and assignment is to give you practical experience with Pandas dataframes. Your first step will be to save this notebook as a copy so that you can edit it. (File->Save a copy in Drive). \n",
        "\n",
        "License: This document is open source under [CC BY-ND 4.0](https://en.wikipedia.org/wiki/Creative_Commons_license)."
      ]
    },
    {
      "cell_type": "markdown",
      "metadata": {
        "id": "_F7g2fuIgv2z"
      },
      "source": [
        "#**Completing the Assignment**\n",
        "\n",
        "This notebook is your homework #1. To complete the homework and receive credit, you need to work through all 3 sections. Within each thematic section is a mix of explanatory text cells and code cells. Some code cells have code written for you; some ask you to write code. You should work through the cells and make sure you understand the syntax and what is happening. At the end of each section are 'Practice Problems'. You should write code to answer the questions - following the directions given. Once you are ready to submit your answer, run the submission code block below every question block. If you get a question wrong, fix your code and try again. If you get stumped, ask for a hint using the hint code block below each submission code block.\n",
        "\n",
        "You should derive all answers with software code. Unless instructed otherwise, you should not take any shortcuts, like printing out a table, manually looking up an answer, and explicitly declaring the variable - answer_1 = \"KRAS\". These type of shortcuts prevent your learning to code, and will not be feasible on later homeworks where datasets are larger and homeworks are harder. Please take the time now to learn.\n",
        "\n",
        "Have fun."
      ]
    },
    {
      "cell_type": "markdown",
      "metadata": {
        "id": "T7raG37Lfq02"
      },
      "source": [
        "# **Learning Outcomes**\n",
        "#### Biological \n",
        "\n",
        "*   Locate proteogenomic cancer datasets from real tumor samples.\n",
        "\n",
        "#### Computational\n",
        "\n",
        "*   Manipulate Pandas DataFrame.\n",
        "*   Select relevant clinical cancer data."
      ]
    },
    {
      "cell_type": "markdown",
      "metadata": {
        "id": "X5x-cbv2o15q"
      },
      "source": [
        "# **Topics and Background Reading**\n",
        "The main topic for this course is cancer. It will be helpful to start the course with a solid understanding of how molecular data is used in cancer research and treatment.\n",
        "\n",
        "- The next horizon in precision oncology. [Rodriguez et al. 2021](https://doi.org/10.1016/j.cell.2021.02.055)\n",
        "\n",
        "The topics in this first homework are an introduction to the cancer dataset that we will use all semester and also an introduction to Pandas and dataframes.\n",
        "\n",
        "- The cancer dataset that we will be using is from the Clinical Proteome Tumor Analysis Consortium, or CPTAC. The dataset consists of a comprehensive molecular characterization of 10 different cancer types, and also the associated clinical information for each patient. You can read more about the dataset and the API we created to access the data [here](https://pubs.acs.org/doi/10.1021/acs.jproteome.0c00919).\n",
        "- Pandas is a software library for matrix variables for Python. It is similar to a spreadsheet, or if you've had some C/Java programming a 2D array. The matrix is typically called a dataframe and can hold any type of information you want including numbers, text, binary variables, etc. If you'd like more inforation about Pandas and dataframes, you can go [here](https://pandas.pydata.org/pandas-docs/stable/index.html). \n",
        "\n",
        "Throughout the course we will be learning more about both the CPTAC data and programming with Pandas. So let's start our first assignment."
      ]
    },
    {
      "cell_type": "markdown",
      "metadata": {
        "id": "SWczr0_dVvt3"
      },
      "source": [
        "# Part 1. Setup\n",
        "\n",
        "Google Colabs is a web service that allows you to write interactive Python (iPython) in notebooks. This web service runs on a virtual computer (virtual machine or VM) that is set up just for you. Initially, that VM only includes the most common Python libraries. So we first need to install our cptac package on the VM. This is done with a server directive, which is recognized because it starts with '!'."
      ]
    },
    {
      "cell_type": "code",
      "metadata": {
        "id": "L92mAZndkeNR"
      },
      "source": [
        "#This first cell is code required to get our VM ready.\n",
        "!pip install cptac\n",
        "!pip install biograder"
      ],
      "execution_count": null,
      "outputs": []
    },
    {
      "cell_type": "markdown",
      "metadata": {
        "id": "An9O60FjbrJO"
      },
      "source": [
        "In order to grade the practice problems and give you credit we need to install the homework autograder package."
      ]
    },
    {
      "cell_type": "code",
      "metadata": {
        "id": "gEXgTBcocNq-"
      },
      "source": [
        "import biograder\n",
        "#The pandas dataframes homework is #1\n",
        "biograder.download(\"bio462_hw1\")\n",
        "myID = \"Place_Your_ID_Here\" #Your student id, or 'temp'\n",
        "hw = biograder.bio462_hw1(student_id = myID) #Instantiate the homework grader object."
      ],
      "execution_count": null,
      "outputs": []
    },
    {
      "cell_type": "markdown",
      "metadata": {
        "id": "vU4h_Q7JrMH_"
      },
      "source": [
        "We now have to import the CPTAC package and get our dataframe. Then we will do some basic inspection of the dataframe, the rows and columns. Depending on your internet connection speed, this may take a minute or two. The download is about 100 MB.\n",
        "\n",
        "As you are waiting for your download, I'll explain a bit about the 'cptac' module. CPTAC is a large consortium in the US which examines cancer samples for DNA/RNA/protein measurements in combination with the patient's clinical information (learn more [here](https://proteomics.cancer.gov/programs/cptac)). All this data is processed and stored in tables (spreadsheets). In the Payne Lab we have created a Python module that makes access to these tables convenient (our publication [here](https://pubs.acs.org/doi/10.1021/acs.jproteome.0c00919)). So this is you working with real cancer data, which was used to help improve our understanding of cancer, including [endometrial](https://doi.org/10.1016/j.cell.2020.01.026) and [lung](https://doi.org/10.1016/j.cell.2020.06.013) cancer. In this tutorial, we'll use the clinical data as described in the next few sections. The module also includes data for DNA mutations, RNA and protein abundance, and lots of other stuff."
      ]
    },
    {
      "cell_type": "code",
      "metadata": {
        "id": "SK0qAgiLksjJ"
      },
      "source": [
        "import cptac\n",
        "cptac.download(\"endometrial\")\n",
        "en = cptac.Endometrial()"
      ],
      "execution_count": null,
      "outputs": []
    },
    {
      "cell_type": "markdown",
      "metadata": {
        "id": "EDGgk6CHwM7C"
      },
      "source": [
        "Before we continue, I would like to point out that we will be using the endometrial cohort for this homework, but there are several more cancer types available in the cptac package. The following code lists all the available datasets for various cancers."
      ]
    },
    {
      "cell_type": "code",
      "metadata": {
        "id": "P_yqSvlBwOWf"
      },
      "source": [
        "cptac.list_datasets()"
      ],
      "execution_count": null,
      "outputs": []
    },
    {
      "cell_type": "markdown",
      "metadata": {
        "id": "flyH4nnzk2GE"
      },
      "source": [
        "Now let's pull out clinical data about our cohort. The module makes this easy with just a simple function call to 'get_clinical'. The dataframe we get from this is like a spreadsheet. The rows are different patients; the columns are different data points. For example, there is a column which says which country a patient is from, what their tumor grade is, etc. If you pan over to the far right you'll see the tumor size and the number of pregnancies."
      ]
    },
    {
      "cell_type": "code",
      "metadata": {
        "id": "MnFP_NDgk65y"
      },
      "source": [
        "clinical_dataframe = en.get_clinical()#Get the dataframe. \n",
        "clinical_dataframe.head()#Look visually at the first 5 rows.\n"
      ],
      "execution_count": null,
      "outputs": []
    },
    {
      "cell_type": "markdown",
      "metadata": {
        "id": "a-_FnobDyVdM"
      },
      "source": [
        "You can get a list of the column headers or row headers by simply asking for them, as seen in the code below."
      ]
    },
    {
      "cell_type": "code",
      "metadata": {
        "id": "Gd-bHWNPlzrO"
      },
      "source": [
        "cols = list(clinical_dataframe.columns)\n",
        "print(cols)\n",
        "rows = list(clinical_dataframe.index)\n",
        "print(rows)"
      ],
      "execution_count": null,
      "outputs": []
    },
    {
      "cell_type": "markdown",
      "metadata": {
        "id": "P3nm8niE1tv8"
      },
      "source": [
        "##PRACTICE PROBLEMS\n",
        "1. How many cancer types are in the cptac package?\n",
        "\n"
      ]
    },
    {
      "cell_type": "code",
      "metadata": {
        "id": "5z3lxvxmwtXC"
      },
      "source": [
        "###       Question 1         ###\n",
        "#  How many cancer types are in the cptac package?\n",
        "#  You should derive your answer with coding, not any shortcuts.\n",
        "\n",
        "###      Your code here      ###\n"
      ],
      "execution_count": null,
      "outputs": []
    },
    {
      "cell_type": "code",
      "metadata": {
        "id": "VxW4hI0uwtMx"
      },
      "source": [
        "###  Question 1: Submitting the answer   ###\n",
        "# To submit, your code above should have created a variable 'answer_1'. \n",
        "result = hw.submit(question = 1, answer = answer_1)\n",
        "print(result)"
      ],
      "execution_count": null,
      "outputs": []
    },
    {
      "cell_type": "code",
      "metadata": {
        "id": "hoZp5EuWwsx-"
      },
      "source": [
        "### Question 1: Getting help ###\n",
        "hints = hw.getHint(question=1)\n",
        "print(hints)"
      ],
      "execution_count": null,
      "outputs": []
    },
    {
      "cell_type": "markdown",
      "metadata": {
        "id": "kuzKsmjEwqzG"
      },
      "source": [
        "2. How many patients are in our endometrial cohort?"
      ]
    },
    {
      "cell_type": "code",
      "metadata": {
        "id": "53Iy3t4CsyX2"
      },
      "source": [
        "###       Question 2         ###\n",
        "#  How many patients are in our endometrial cohort?\n",
        "#  You should derive your answer with coding, not any shortcuts.\n",
        "\n",
        "###      Your code here      ###\n"
      ],
      "execution_count": null,
      "outputs": []
    },
    {
      "cell_type": "code",
      "metadata": {
        "id": "eyYmY1yexujo"
      },
      "source": [
        "###  Question 2: Submitting the answer   ###\n",
        "# To submit, your code above should have created a variable 'answer_2'. \n",
        "result = hw.submit(question = 2, answer = answer_2)\n",
        "print(result)"
      ],
      "execution_count": null,
      "outputs": []
    },
    {
      "cell_type": "code",
      "metadata": {
        "id": "gvADhgizxwnn"
      },
      "source": [
        "### Question 2: Getting help ###\n",
        "hints = hw.getHint(question=2)\n",
        "print(hints)"
      ],
      "execution_count": null,
      "outputs": []
    },
    {
      "cell_type": "markdown",
      "metadata": {
        "id": "MIF8ummMpRAT"
      },
      "source": [
        "# Part 2. Some simple select statements\n",
        "A dataframe is a spreadsheet-like variable. Often when we are working with it, we want to pull out a subset of information for convenience. You can think of this as similar to 'slicing' a Python list.\n",
        "\n",
        "Let's practice how to get to parts of the table. We will start by first asking for a single column, the one with the cancer stage for each patient. Then in the next code block, we'll slice out three columns: cancer stage, body mass index, and age."
      ]
    },
    {
      "cell_type": "code",
      "metadata": {
        "id": "8knm7WYepYce"
      },
      "source": [
        "cancer_stage_df = clinical_dataframe['FIGO_stage'] #'df' is a common abbreviation for dataframe.\n",
        "cancer_stage_df.head()"
      ],
      "execution_count": null,
      "outputs": []
    },
    {
      "cell_type": "markdown",
      "metadata": {
        "id": "xb2N23EJ01RQ"
      },
      "source": [
        "Remember that when you slice a list, you get back a list.  When you slice a dataframe, you get back a dataframe. "
      ]
    },
    {
      "cell_type": "code",
      "metadata": {
        "id": "w_iqyHi_piYP"
      },
      "source": [
        "#When you want to slice out more than one column from a dataframe, you pass in the \n",
        "#list of the column names that you want. That's why you see the double bracket.\n",
        "three_columns_df = clinical_dataframe[['FIGO_stage', 'BMI', 'Age']]\n",
        "three_columns_df.head()"
      ],
      "execution_count": null,
      "outputs": []
    },
    {
      "cell_type": "markdown",
      "metadata": {
        "id": "Cwj_sR4GE-Mm"
      },
      "source": [
        "As mentioned before, a dataframe is a spreadsheet-like datatype. It's a collection of data. Just like a 'list' datatype has some built in functionality, dataframes also have some nice functionality. Here we show just a few of these, like doing math on a column of data."
      ]
    },
    {
      "cell_type": "code",
      "metadata": {
        "id": "b0-QBA6MEfr_"
      },
      "source": [
        "average_age = clinical_dataframe['Age'].mean()\n",
        "max_age = clinical_dataframe['Age'].max()\n",
        "min_age = clinical_dataframe['Age'].min()\n",
        "print(\"Age: min {:.1f}, average {:.1f}, max {:.1f} \".format(min_age, average_age, max_age))"
      ],
      "execution_count": null,
      "outputs": []
    },
    {
      "cell_type": "markdown",
      "metadata": {
        "id": "bDqlJEUhKbs7"
      },
      "source": [
        "We can also ask a dataframe how many different answers are in a column or how many of each kind of answer there are. Here we ask how many different tumor stages are in our dataframe, and how many patients for each stage."
      ]
    },
    {
      "cell_type": "code",
      "metadata": {
        "id": "2YsWtTZwGgCD"
      },
      "source": [
        "stages = clinical_dataframe['FIGO_stage'].unique()\n",
        "print(stages)"
      ],
      "execution_count": null,
      "outputs": []
    },
    {
      "cell_type": "code",
      "metadata": {
        "id": "BZYU2Q6rL_Hu"
      },
      "source": [
        "counts = clinical_dataframe['FIGO_stage'].value_counts()\n",
        "print(counts)"
      ],
      "execution_count": null,
      "outputs": []
    },
    {
      "cell_type": "markdown",
      "metadata": {
        "id": "C7HzVr2jp5hM"
      },
      "source": [
        "Now let's work with row selection. Remember that in our dataframe, a row is an individual patient. Below is how you slice out a single row. You notice that we use the .loc function. This is how you differentiate it from a column selection."
      ]
    },
    {
      "cell_type": "code",
      "metadata": {
        "id": "2Xvfnm9yp4Rf"
      },
      "source": [
        "patient_A = clinical_dataframe.loc['C3L-00006']\n",
        "patient_A #This is the simplified way of printing a whole dataframe. \n",
        "#Note how since this is a single row, it is printed a bit funny."
      ],
      "execution_count": null,
      "outputs": []
    },
    {
      "cell_type": "code",
      "metadata": {
        "id": "MX63I3kCqpPS"
      },
      "source": [
        "three_patients = clinical_dataframe.loc[['C3L-00006', 'C3L-00008', 'C3L-00032']]\n",
        "three_patients #Here we are not using the 'print' function, because we can see the whole dataframe this way.\n",
        "#Test out calling 'print(three_patients)' if you want to see the difference."
      ],
      "execution_count": null,
      "outputs": []
    },
    {
      "cell_type": "markdown",
      "metadata": {
        "id": "OoglFHiMG5vN"
      },
      "source": [
        "## PRACTICE PROBLEMS\n",
        "Using the clinical_dataframe variable, please answer the following three questions.\n",
        "3. What is the average tumor size? (rounded to 1 decimal)"
      ]
    },
    {
      "cell_type": "code",
      "metadata": {
        "id": "75bGs7fRHAtn"
      },
      "source": [
        "###       Question 3         ###\n",
        "#  What is the average tumor size? (rounded to 1 decimal)\n",
        "#  You should derive your answer with coding, not any shortcuts.\n",
        "\n",
        "###      Your code here      ###\n"
      ],
      "execution_count": null,
      "outputs": []
    },
    {
      "cell_type": "code",
      "metadata": {
        "id": "NuigeVS9x1zK"
      },
      "source": [
        "###  Question 3: Submitting the answer   ###\n",
        "# To submit, your code above should have created a variable 'answer_3'. \n",
        "result = hw.submit(question = 3, answer = answer_3)\n",
        "print(result)"
      ],
      "execution_count": null,
      "outputs": []
    },
    {
      "cell_type": "code",
      "metadata": {
        "id": "uLUT9w-syPHE"
      },
      "source": [
        "### Question 3: Getting help ###\n",
        "hints = hw.getHint(question=3)\n",
        "print(hints)"
      ],
      "execution_count": null,
      "outputs": []
    },
    {
      "cell_type": "markdown",
      "metadata": {
        "id": "FCAXzdTy1Ijr"
      },
      "source": [
        "4. How many people are from the 'United States'?"
      ]
    },
    {
      "cell_type": "code",
      "metadata": {
        "id": "GY6h0pMQMYc8"
      },
      "source": [
        "###       Question 4         ###\n",
        "#  How many people are from the 'United States'?\n",
        "#  You should derive your answer with coding, not any shortcuts.\n",
        "\n",
        "###      Your code here      ###\n"
      ],
      "execution_count": null,
      "outputs": []
    },
    {
      "cell_type": "code",
      "metadata": {
        "id": "GAhGwBbIx2vc"
      },
      "source": [
        "###  Question 4: Submitting the answer   ###\n",
        "# To submit, your code above should have created a variable 'answer_4'. \n",
        "result = hw.submit(question = 4, answer = answer_4)\n",
        "print(result)"
      ],
      "execution_count": null,
      "outputs": []
    },
    {
      "cell_type": "code",
      "metadata": {
        "id": "ycsZzveYyP_e"
      },
      "source": [
        "### Question 4: Getting help ###\n",
        "hints = hw.getHint(question=4)\n",
        "print(hints)"
      ],
      "execution_count": null,
      "outputs": []
    },
    {
      "cell_type": "markdown",
      "metadata": {
        "id": "8G2isH8V1UHP"
      },
      "source": [
        "5. How many people are diabetic?"
      ]
    },
    {
      "cell_type": "code",
      "metadata": {
        "id": "3Gb34W3JMYk2"
      },
      "source": [
        "###       Question 5         ###\n",
        "#  How many people are diabetic?\n",
        "#  You should derive your answer with coding, not any shortcuts.\n",
        "\n",
        "###      Your code here      ###\n"
      ],
      "execution_count": null,
      "outputs": []
    },
    {
      "cell_type": "code",
      "metadata": {
        "id": "W18uJRNux35B"
      },
      "source": [
        "###  Question 5: Submitting the answer   ###\n",
        "# To submit, your code above should have created a variable 'answer_5'. \n",
        "result = hw.submit(question = 5, answer = answer_5)\n",
        "print(result)"
      ],
      "execution_count": null,
      "outputs": []
    },
    {
      "cell_type": "code",
      "metadata": {
        "id": "HjIDA6VOyQsD"
      },
      "source": [
        "### Question 5: Getting help ###\n",
        "hints = hw.getHint(question=5)\n",
        "print(hints)"
      ],
      "execution_count": null,
      "outputs": []
    },
    {
      "cell_type": "markdown",
      "metadata": {
        "id": "oXRaEZcbq7FJ"
      },
      "source": [
        "# Part 3 - Some complex selections\n",
        "In part 2 we learned how to select out whole rows or whole columns. Now we'll learn how to select out parts of the dataframe that meet a specific condition. For example, what if we wanted to create a dataframe of patients who have 'FIGO grade 2' tumors or only the patients who are over 70 years old. This section shows how to create complex select statements that have built in conditional tests.\n",
        "\n",
        "In the code you will see conditional operators like '==' or '<'. The selection looks like:\n",
        "\n",
        "`clinical_dataframe.loc[ CONDITION_HERE ] #give me the rows that pass this condition`\n"
      ]
    },
    {
      "cell_type": "code",
      "metadata": {
        "id": "v814YARDrJX5"
      },
      "source": [
        "grade2tumors = clinical_dataframe.loc[clinical_dataframe['Histologic_Grade_FIGO'] == 'FIGO grade 2']\n",
        "grade2tumors.head()"
      ],
      "execution_count": null,
      "outputs": []
    },
    {
      "cell_type": "code",
      "metadata": {
        "id": "Sa84kOHMtU4b"
      },
      "source": [
        "patientsOver70 = clinical_dataframe.loc[clinical_dataframe['Age'] > 70]\n",
        "patientsOver70.head()"
      ],
      "execution_count": null,
      "outputs": []
    },
    {
      "cell_type": "markdown",
      "metadata": {
        "id": "4W-q_I2otp-_"
      },
      "source": [
        "Now we combine these two selections to make a more complex selection.\n",
        "\n",
        "The selection looks like:\n",
        "\n",
        "`clinical_dataframe.loc[(CONDITION_1_HERE) & (CONDITION_2_HERE)]`"
      ]
    },
    {
      "cell_type": "code",
      "metadata": {
        "id": "BfKuEJoAtpJB"
      },
      "source": [
        "complex_select_df = clinical_dataframe.loc[(clinical_dataframe['Age'] > 70) & (clinical_dataframe['Histologic_Grade_FIGO'] == 'FIGO grade 2')]\n",
        "complex_select_df #We didn't do .head() so that you can now see the whole table."
      ],
      "execution_count": null,
      "outputs": []
    },
    {
      "cell_type": "markdown",
      "metadata": {
        "id": "q7WFW9L32H29"
      },
      "source": [
        "##PRACTICE PROBLEMS\n",
        "\n",
        "6. How many tumors from the Ukraine are from childless women over 50?"
      ]
    },
    {
      "cell_type": "code",
      "metadata": {
        "id": "8QVefL2Pt_4d"
      },
      "source": [
        "###       Question 6         ###\n",
        "#  How many tumors from the Ukraine are from childless women over 50?\n",
        "#  You should derive your answer with coding, not any shortcuts.\n",
        "\n",
        "###      Your code here      ###\n"
      ],
      "execution_count": null,
      "outputs": []
    },
    {
      "cell_type": "code",
      "metadata": {
        "id": "NqUf5W72x6VJ"
      },
      "source": [
        "###  Question 6: Submitting the answer   ###\n",
        "# To submit, your code above should have created a variable 'answer_6'. \n",
        "result = hw.submit(question = 6, answer = answer_6)\n",
        "print(result)"
      ],
      "execution_count": null,
      "outputs": []
    },
    {
      "cell_type": "code",
      "metadata": {
        "id": "OLhzUxxaySMo"
      },
      "source": [
        "### Question 6: Getting help ###\n",
        "hints = hw.getHint(question=6)\n",
        "print(hints)"
      ],
      "execution_count": null,
      "outputs": []
    },
    {
      "cell_type": "markdown",
      "metadata": {
        "id": "sUkLDV2u1fbz"
      },
      "source": [
        "7. Is being obese (BMI > 35) more common in stage II or IV cancer?"
      ]
    },
    {
      "cell_type": "code",
      "metadata": {
        "id": "e8mFK5PB2EdE"
      },
      "source": [
        "###       Question 7         ###\n",
        "#  Is being obese (BMI > 35) more common in stage II or IV cancer?\n",
        "#  Your answer should either be \"Stage II\" or \"Stage IV\" \n",
        "#  You should derive your answer with coding, not any shortcuts.\n",
        "\n",
        "###      Your code here      ###\n",
        "# Hint: Use 'tumor_Stage-Pathological'\n"
      ],
      "execution_count": null,
      "outputs": []
    },
    {
      "cell_type": "code",
      "metadata": {
        "id": "kThtguMZx7AA"
      },
      "source": [
        "###  Question 7: Submitting the answer   ###\n",
        "# To submit, your code above should have created a variable 'answer_7'. \n",
        "result = hw.submit(question = 7, answer = answer_7)\n",
        "print(result)"
      ],
      "execution_count": null,
      "outputs": []
    },
    {
      "cell_type": "code",
      "metadata": {
        "id": "Myz47jIRySxb"
      },
      "source": [
        "### Question 7: Getting help ###\n",
        "hints = hw.getHint(question=7)\n",
        "print(hints)"
      ],
      "execution_count": null,
      "outputs": []
    },
    {
      "cell_type": "markdown",
      "metadata": {
        "id": "W-dcBsTS1ixh"
      },
      "source": [
        "8. What is the average tumor size for individuals from each country?"
      ]
    },
    {
      "cell_type": "code",
      "metadata": {
        "id": "j72AO7_gHS2l"
      },
      "source": [
        "###       Question 8         ###\n",
        "#  What is the average tumor size for individuals from each country? (Rounded to 1 decimal)\n",
        "#  Do not report values for non-countries. \n",
        "#  Your answer should be a string with the \"country: average\" separated by a comma in alphabetical order.\n",
        "#  Example: Poland: 5.7, United States: 2.6,...\n",
        "#  You should derive your answer with coding, not any shortcuts.\n",
        "\n",
        "###      Your code here      ###\n"
      ],
      "execution_count": null,
      "outputs": []
    },
    {
      "cell_type": "code",
      "metadata": {
        "id": "JJvIIznox7kD"
      },
      "source": [
        "###  Question 8: Submitting the answer   ###\n",
        "# To submit, your code above should have created a variable 'answer_8'. \n",
        "result = hw.submit(question = 8, answer = answer_8)\n",
        "print(result)"
      ],
      "execution_count": null,
      "outputs": []
    },
    {
      "cell_type": "code",
      "metadata": {
        "id": "nSHz1MwFyTYl"
      },
      "source": [
        "### Question 8: Getting help ###\n",
        "hints = hw.getHint(question=8)\n",
        "print(hints)"
      ],
      "execution_count": null,
      "outputs": []
    },
    {
      "cell_type": "markdown",
      "metadata": {
        "id": "mtoHfj4vSY30"
      },
      "source": [
        "# Part 4. Turn it in\n",
        "**Congrats!**\n",
        "\n",
        "Now that you have finished the assignment, use the endSession command to report your score. Once you have completed the notebook, please share it with your instructor."
      ]
    },
    {
      "cell_type": "code",
      "metadata": {
        "id": "PCLzpmpPSaZR"
      },
      "source": [
        "hw.endSession()"
      ],
      "execution_count": null,
      "outputs": []
    }
  ]
}